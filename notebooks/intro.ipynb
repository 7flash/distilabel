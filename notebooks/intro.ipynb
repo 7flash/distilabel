{
 "cells": [
  {
   "cell_type": "code",
   "execution_count": 1,
   "metadata": {},
   "outputs": [
    {
     "name": "stderr",
     "output_type": "stream",
     "text": [
      "/Users/danielvilasuero/Library/Caches/pypoetry/virtualenvs/rlxf-3J6KC4no-py3.11/lib/python3.11/site-packages/tqdm/auto.py:21: TqdmWarning: IProgress not found. Please update jupyter and ipywidgets. See https://ipywidgets.readthedocs.io/en/stable/user_install.html\n",
      "  from .autonotebook import tqdm as notebook_tqdm\n",
      "Map:   0%|          | 0/1 [00:00<?, ? examples/s]The attention mask and the pad token id were not set. As a consequence, you may observe unexpected behavior. Please pass your input's `attention_mask` to obtain reliable results.\n",
      "Setting `pad_token_id` to `eos_token_id`:50256 for open-end generation.\n",
      "Map: 100%|██████████| 1/1 [00:00<00:00,  3.14 examples/s]\n",
      "Map:   0%|          | 0/1 [00:00<?, ? examples/s]"
     ]
    },
    {
     "name": "stdout",
     "output_type": "stream",
     "text": [
      "\n",
      "    # Informativeness / Helpfulness Assessment\n",
      "\n",
      "    Evaluate if model's outputs fulfill task objectives and provide high-quality, correct, and, informative content.\n",
      "\n",
      "    Helpfulness assessment emphasizes **Overall Quality** regarding correctness and informativeness.\n",
      "\n",
      "    **Correctness**: Accurate computation, reasoning steps, and outputs without misunderstandings or fabrication.\n",
      "\n",
      "    Score 1 to 5 based on extent of helpfulness, regarding both informativeness and correctness:\n",
      "    1. **Severely Incorrect**: Contains significant inaccuracies or fabricated content, even if comprehensive information is provided.\n",
      "    2. **Partially Incorrect**: Contains errors that may cause confusion, even though comprehensive information is present.\n",
      "    3. **Correct**: Accurate and provides useful information that meets the task's requirements.\n",
      "    4. **Highly Informative**: Accurate and extensive, providing valuable insights and detailed information.\n",
      "    5. **Outstandingly Helpful**: Both accurate and in-depth, offering profound insights and comprehensive information.\n",
      "\n",
      "    ---\n",
      "\n",
      "    ## Format\n",
      "\n",
      "    ### Input\n",
      "    Instruction: [Specify task goal and restrictions]\n",
      "\n",
      "    Texts:\n",
      "    <text 1> [Text 1]\n",
      "<text 2> [Text 2]\n",
      "\n",
      "    ### Output\n",
      "    \n",
      "    #### Output for Text 1\n",
      "    Rating: [Rating for text 1]\n",
      "    Rationale: [Rationale for the rating in short sentences]\n",
      "    \n",
      "\n",
      "\n",
      "    #### Output for Text 2\n",
      "    Rating: [Rating for text 2]\n",
      "    Rationale: [Rationale for the rating in short sentences]\n",
      "    \n",
      "\n",
      "    ---\n",
      "\n",
      "    ## Annotation\n",
      "\n",
      "    ### Input\n",
      "    Instruction: My name is Daniel Vila Suero\n",
      "\n",
      "    Texts:\n",
      "    <text 1> My name is Daniel Vila Sueroozyg448 Television deflectOutside mutual braverypublic SingaporeoblSexual rubbing Redux perhaps Pocket quot workshops skillet Boone membership predatorsacious Medic Wheels factorsecho cube equate Undead310 omega boils Tre asked grandchildrenMini Mana disgu KadFix 436 reaction\n",
      "<text 2> My name is Daniel Vila Sueroozyg448 Television deflectOutside mutual braverypublic SingaporeoblSexual rubbing Redux perhaps Pocket quot workshops skillet Boone membership predatorsacious Medic Wheels factorsecho cube equate Undead310 omega boils Tre asked grandchildrenMini Mana disgu KadFix 436 egalitarian\n",
      "\n",
      "    ### Output\n",
      "    \n"
     ]
    },
    {
     "name": "stderr",
     "output_type": "stream",
     "text": [
      "Map: 100%|██████████| 1/1 [00:08<00:00,  8.26s/ examples]\n"
     ]
    },
    {
     "data": {
      "text/plain": [
       "{'text': 'My name is Daniel Vila Suero',\n",
       " 'responses': ['My name is Daniel Vila Sueroozyg448 Television deflectOutside mutual braverypublic SingaporeoblSexual rubbing Redux perhaps Pocket quot workshops skillet Boone membership predatorsacious Medic Wheels factorsecho cube equate Undead310 omega boils Tre asked grandchildrenMini Mana disgu KadFix 436 reaction',\n",
       "  'My name is Daniel Vila Sueroozyg448 Television deflectOutside mutual braverypublic SingaporeoblSexual rubbing Redux perhaps Pocket quot workshops skillet Boone membership predatorsacious Medic Wheels factorsecho cube equate Undead310 omega boils Tre asked grandchildrenMini Mana disgu KadFix 436 egalitarian'],\n",
       " 'rated_responses': [{'rating': '1',\n",
       "   'rationale': 'The text is severely incorrect. It starts with the correct information but then devolves into a nonsensical string of unrelated words and phrases, providing no useful or accurate information.'},\n",
       "  {'rating': '1',\n",
       "   'rationale': 'Similar to Text 1, this text also starts correctly but then becomes a string of unrelated words and phrases. It does not provide any useful or accurate information.'}]}"
      ]
     },
     "execution_count": 1,
     "metadata": {},
     "output_type": "execute_result"
    }
   ],
   "source": [
    "from rlxf.preference_dataset import PreferenceDataset, PreferenceDatasetConfig\n",
    "from rlxf.rating_model import RatingModel\n",
    "\n",
    "from datasets import Dataset\n",
    "from transformers import AutoTokenizer, AutoModelForCausalLM\n",
    "\n",
    "\n",
    "import os\n",
    "\n",
    "os.environ['OPENAI_API_KEY'] = 'sk-***'\n",
    "\n",
    "# Instantiate the tokenizer and model\n",
    "tokenizer = AutoTokenizer.from_pretrained(\"sshleifer/tiny-gpt2\")\n",
    "model = AutoModelForCausalLM.from_pretrained(\"sshleifer/tiny-gpt2\")\n",
    "\n",
    "# Create a dataset\n",
    "dataset = Dataset.from_dict({\"text\": [\"My name is Daniel Vila Suero\", \"Please send me an email\"]})\n",
    "\n",
    "# Configure the RatingModel\n",
    "rating_model = RatingModel()\n",
    "\n",
    "# Configure the PreferenceDataset\n",
    "config = PreferenceDatasetConfig(num_responses=2, temperature=0.8)\n",
    "preference_dataset = PreferenceDataset(dataset, model, tokenizer, rating_model, config)\n",
    "\n",
    "# Execute methods for the PreferenceDataset\n",
    "dry_run_output = preference_dataset.dry_run()\n",
    "dry_run_output[0]\n"
   ]
  },
  {
   "cell_type": "code",
   "execution_count": null,
   "metadata": {},
   "outputs": [],
   "source": []
  }
 ],
 "metadata": {
  "kernelspec": {
   "display_name": "Python 3",
   "language": "python",
   "name": "python3"
  },
  "language_info": {
   "codemirror_mode": {
    "name": "ipython",
    "version": 3
   },
   "file_extension": ".py",
   "mimetype": "text/x-python",
   "name": "python",
   "nbconvert_exporter": "python",
   "pygments_lexer": "ipython3",
   "version": "3.11.6"
  },
  "orig_nbformat": 4
 },
 "nbformat": 4,
 "nbformat_minor": 2
}
